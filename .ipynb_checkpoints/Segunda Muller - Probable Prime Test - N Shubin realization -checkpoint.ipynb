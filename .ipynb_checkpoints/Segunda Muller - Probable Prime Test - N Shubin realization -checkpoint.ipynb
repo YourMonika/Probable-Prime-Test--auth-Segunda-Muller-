{
 "cells": [
  {
   "cell_type": "code",
   "execution_count": 19,
   "metadata": {},
   "outputs": [],
   "source": [
    "# Precomputation\n",
    "# If n div by PRIME from {B, sqrt(n)}, B = 50000, -> n - composite\n",
    "# if sqrt(n) is integer, -> n - composite\n",
    "\n",
    "# Params selection\n",
    "# Select P from Z_n, Q from Z*_n, such that (Q/n) = 1, (D/n) = -1.\n",
    "\n",
    "#Square Root Part\n",
    "# - Run one of square root finding algs of sect (***),  root of Q modulo n.\n",
    "# - - if algs said, that \"n - composite\" - stop\n",
    "\n",
    "# - Let a be the root of Q obtained, and let  P' <- P/a mod n.\n",
    "\n",
    "#(QF - Based Part)\n",
    "# - Let >>>> _alpha(P', 1) - roots of x^2 - P' * x + 1\n",
    "# >>>>>>>>>> _alpha*(P', 1) \n",
    "\n",
    "# - Test, if _alpha(P', 1) ^ (n+1)/2 =(mod n)= _alpha*(P', 1) ^ (n+1)/2\n",
    "# (***)\n",
    "# - if not -> n - composite\n",
    "# - Compute gcd( _alpha(P', 1)^(n+1)/2 +- 1, n)\n",
    "#\n"
   ]
  },
  {
   "cell_type": "code",
   "execution_count": 68,
   "metadata": {},
   "outputs": [],
   "source": [
    "# test on prime - precompute-func\n",
    "#=====================================================\n",
    "def precompute(N):\n",
    "    if N % 2 == 0:\n",
    "        print(\"Precomputation : N-> composite, even\")\n",
    "        return \n",
    "    for i in range(min(50000, round(sqrt(N))) + 1):\n",
    "        if is_prime(i):\n",
    "            if N % i == 0:\n",
    "                print(\"Precomputation : N -> composite, divisor = \", i)\n",
    "                return\n",
    "\n",
    "    print(\"Precomputation : probable prime, next step\")\n",
    "    return \n",
    "\n",
    "    "
   ]
  },
  {
   "cell_type": "code",
   "execution_count": 73,
   "metadata": {},
   "outputs": [
    {
     "name": "stdout",
     "output_type": "stream",
     "text": [
      "1293748782378480037\n",
      "Precomputation : probable prime, next step\n"
     ]
    }
   ],
   "source": [
    "#Test 1293748782378480037 ; 234235890989773 ; 73; 97 \n",
    "#================================================ \n",
    "N = int(input()) \n",
    "if N % 4 == 1: \n",
    "    precompute(N) \n",
    "else: \n",
    "        print(\"Incorrect input\") \n",
    "if (N+1) % 4 == 1: \n",
    "    print(\"Edited, N = \", N+1) \n",
    "    precompute((N+1))\n",
    "if (N+2) % 4 == 1: \n",
    "    print(\"Edited, N = \", N+2) \n",
    "    precompute((N+2)) \n",
    "if (N+3) % 4 == 1: \n",
    "    print(\"Edited, N = \", N+3) \n",
    "    precompute((N+3))"
   ]
  },
  {
   "cell_type": "code",
   "execution_count": 74,
   "metadata": {},
   "outputs": [
    {
     "name": "stdout",
     "output_type": "stream",
     "text": [
      "Parameters Selection, N =  1293748782378480037\n",
      "Q =  1\n",
      "P  = 2\n"
     ]
    },
    {
     "data": {
      "text/plain": [
       "(True, True, False)"
      ]
     },
     "execution_count": 74,
     "metadata": {},
     "output_type": "execute_result"
    }
   ],
   "source": [
    "#Parameters Selection\n",
    "#===========================\n",
    "import random\n",
    "\n",
    "print(\"Parameters Selection, N = \", N)\n",
    "Q, P = 1, 1\n",
    "while kronecker(Q, N) != 1:\n",
    "    Q += 1\n",
    "while kronecker(P, N) != -1:\n",
    "    P += 1\n",
    "\n",
    "print(\"Q = \", Q)\n",
    "print(\"P  =\", P)\n",
    "\n",
    "kronecker(1, 23) == 1, kronecker(23, 23) == 0, kronecker(18, 24) == -1\n",
    "#True, True, False"
   ]
  },
  {
   "cell_type": "code",
   "execution_count": 71,
   "metadata": {},
   "outputs": [
    {
     "name": "stdout",
     "output_type": "stream",
     "text": [
      "Root finding alg : N =  1293748782378480097\n",
      "+a =  1 , -a = -1\n"
     ]
    }
   ],
   "source": [
    "#root finging alg n == 1 mod 4\n",
    "#input : n = 2^s r + 1 , s odd, (q|n) = 1\n",
    "#========================================\n",
    "import math\n",
    "\n",
    "print(\"Root finding alg : N = \", N)\n",
    "sr2 = N - 1\n",
    "r = 0 # order\n",
    "\n",
    "while sr2 % 2 == 0:\n",
    "    sr2 = sr2//2\n",
    "    r += 1\n",
    "s = sr2 #odd\n",
    "\n",
    "#precomputation\n",
    "u = 1\n",
    "while kronecker(u, N) != -1:\n",
    "    u += 1\n",
    "\n",
    "z = u.powermod(s,N) # z <- u^s mod N\n",
    "\n",
    "if z.powermod(2^(r-1), N) != N-1: \n",
    "    print(\"Precomputation (root-founding alg) : declare N -> composite\")\n",
    "\n",
    "\n",
    "#Initialization\n",
    "k = r-1\n",
    "t = Q.powermod((s-1)/2, N)\n",
    "a = (Q*t).powermod(1, N)\n",
    "b = (a*t).powermod(1, N)\n",
    "\n",
    "# Body of Alg\n",
    "while b.powermod(1, N) != 1:\n",
    "    m = 1\n",
    "    B = b\n",
    "    found = False\n",
    "    while m < k and found == 0:\n",
    "        if B == 1:\n",
    "            print(\"Body of root-finding alg : gcd(B0 - B, N) = \", math.gcd(B0 - B, N))\n",
    "        elif B == -1: \n",
    "            found = True\n",
    "        else:\n",
    "            m += 1\n",
    "            B0 = B\n",
    "            B = B.powermod(2, N)\n",
    "    if found == False:\n",
    "        print(\"Body of root-finding alg : N -> composite\")\n",
    "    t=z^(2 ^(k-m-1))\n",
    "    z = t^2\n",
    "    b = b*z\n",
    "    a = (a*t).powermod(1, N)\n",
    "    k = m\n",
    "\n",
    "print(\"+a = \", a.powermod(1, N), \", -a =\", -a.powermod(1,N))\n"
   ]
  },
  {
   "cell_type": "code",
   "execution_count": 75,
   "metadata": {},
   "outputs": [
    {
     "name": "stdout",
     "output_type": "stream",
     "text": [
      "QF-BASED PART : N =  1293748782378480037\n",
      "alpha - roots: 1 & 1\n",
      "QF-Based Part: OK\n",
      "QF-Based Part: OK\n"
     ]
    }
   ],
   "source": [
    "#QF-based Part\n",
    "\n",
    "\n",
    "print(\"QF-BASED PART : N = \", N)\n",
    "def alphas(P_, x_):\n",
    "    x = var(\"x\")\n",
    "    return solve(x^2 - P_*x + x_, x, solution_dict=True)\n",
    "\n",
    "\n",
    "P_ = P.powermod(1, N)\n",
    "roots = alphas(P_, 1)\n",
    "alpha1 = roots[0][x]\n",
    "if len(roots) == 2:\n",
    "    alpha2 = roots[1][x]\n",
    "else:\n",
    "    alpha2 = alpha1\n",
    "    \n",
    "\n",
    "print(\"alpha - roots:\", alpha1,\"&\", alpha2)\n",
    "\n",
    "if alpha1^((N+1)/2).mod(N) != alpha2^((N+1)/2).mod(N):\n",
    "    error += 1\n",
    "    print(\"QF Based Part: N -> composite\")\n",
    "    \n",
    "    \n",
    "if alpha1^((N+1)/2 + 1) in ZZ:\n",
    "    if gcd([round(alpha1^((N+1)/2 + 1), N)])  != 1:\n",
    "        error += 1\n",
    "        print(\"QF-Based Part: Declare N as composite\")\n",
    "    else:\n",
    "        print(\"QF-Based Part: OK\")\n",
    "else:\n",
    "    print(\"QF-Based Part: OK\")\n",
    "\n",
    "\n",
    "if alpha1^((N+1)/2 - 1) in ZZ:\n",
    "    if gcd([round(alpha1^((N+1)/2 - 1), N)])  != 1:\n",
    "        error += 1 \n",
    "        print(\"QF-Based Part: Declare N as composite\")\n",
    "    else:\n",
    "        print(\"QF-Based Part: OK\")\n",
    "else:\n",
    "    print(\"QF-Based Part: OK\")\n",
    "        \n",
    "            "
   ]
  },
  {
   "cell_type": "code",
   "execution_count": 63,
   "metadata": {},
   "outputs": [
    {
     "name": "stdout",
     "output_type": "stream",
     "text": [
      "Test result :  1293748782378480037  PROBABLE PRIME with high confidence\n"
     ]
    }
   ],
   "source": [
    "if error == 0:\n",
    "    print(\"Test result : \", N, \" PROBABLE PRIME with high confidence\")\n",
    "else :\n",
    "    print(\"Test result : \", N, \" Composite \")"
   ]
  },
  {
   "cell_type": "code",
   "execution_count": 51,
   "metadata": {},
   "outputs": [
    {
     "data": {
      "text/plain": [
       "False"
      ]
     },
     "execution_count": 51,
     "metadata": {},
     "output_type": "execute_result"
    }
   ],
   "source": [
    "184910985757828738423441241 in Primes()"
   ]
  },
  {
   "cell_type": "code",
   "execution_count": null,
   "metadata": {},
   "outputs": [],
   "source": []
  }
 ],
 "metadata": {
  "kernelspec": {
   "display_name": "SageMath 9.2",
   "language": "sage",
   "name": "sagemath"
  },
  "language_info": {
   "codemirror_mode": {
    "name": "ipython",
    "version": 3
   },
   "file_extension": ".py",
   "mimetype": "text/x-python",
   "name": "python",
   "nbconvert_exporter": "python",
   "pygments_lexer": "ipython3",
   "version": "3.7.7"
  }
 },
 "nbformat": 4,
 "nbformat_minor": 4
}
